{
 "cells": [
  {
   "cell_type": "code",
   "execution_count": 1,
   "metadata": {},
   "outputs": [
    {
     "data": {
      "text/plain": [
       "[['robert', 78, 92, 65], ['jenny', 65, 96, 72], ['alice', 85, 72, 95]]"
      ]
     },
     "execution_count": 1,
     "metadata": {},
     "output_type": "execute_result"
    }
   ],
   "source": [
    "students:list[list]= [\n",
    "                        ['robert',78,92,65],\n",
    "                        ['jenny',65,96,72],\n",
    "                        ['alice',85,72,95]\n",
    "                    ]\n",
    "\n",
    "students"
   ]
  },
  {
   "cell_type": "code",
   "execution_count": 2,
   "metadata": {},
   "outputs": [
    {
     "data": {
      "text/plain": [
       "[{'name': 'rebert', 'chinese': 78, 'english': 92, 'math': 65},\n",
       " {'name': 'jenny', 'chinese': 78, 'english': 92, 'math': 65},\n",
       " {'name': 'alice', 'chinese': 78, 'english': 92, 'math': 65}]"
      ]
     },
     "execution_count": 2,
     "metadata": {},
     "output_type": "execute_result"
    }
   ],
   "source": [
    "[\n",
    "    {'name':'rebert','chinese':78,'english':92,'math':65},\n",
    "    {'name':'jenny','chinese':78,'english':92,'math':65},\n",
    "    {'name':'alice','chinese':78,'english':92,'math':65}\n",
    "]"
   ]
  }
 ],
 "metadata": {
  "kernelspec": {
   "display_name": "Python 3",
   "language": "python",
   "name": "python3"
  },
  "language_info": {
   "codemirror_mode": {
    "name": "ipython",
    "version": 3
   },
   "file_extension": ".py",
   "mimetype": "text/x-python",
   "name": "python",
   "nbconvert_exporter": "python",
   "pygments_lexer": "ipython3",
   "version": "3.12.3"
  }
 },
 "nbformat": 4,
 "nbformat_minor": 2
}
